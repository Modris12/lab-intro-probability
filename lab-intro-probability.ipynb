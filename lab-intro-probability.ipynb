{
 "cells": [
  {
   "cell_type": "markdown",
   "metadata": {},
   "source": [
    "# Lab | Intro to Probability"
   ]
  },
  {
   "cell_type": "markdown",
   "metadata": {},
   "source": [
    "**Objective**\n",
    "\n",
    "Welcome to this Intro to Probability lab, where we explore decision-making scenarios through the lens of probability and strategic analysis. In the business world, making informed decisions is crucial, especially when faced with uncertainties. This lab focuses on scenarios where probabilistic outcomes play a significant role in shaping strategies and outcomes. Students will engage in exercises that require assessing and choosing optimal paths based on data-driven insights. The goal is to enhance your skills by applying probability concepts to solve real-world problems."
   ]
  },
  {
   "cell_type": "markdown",
   "metadata": {},
   "source": [
    "**Challenge 1**"
   ]
  },
  {
   "cell_type": "markdown",
   "metadata": {},
   "source": [
    "#### Ironhack Airlines \n",
    "\n",
    "Often Airlines sell more tickets than they have seats available, this is called overbooking. Consider the following:\n",
    "- A plane has 450 seats. \n",
    "- Based on historical data we conclude that each individual passenger has a 3% chance of missing it's flight. \n",
    "\n",
    "If the Ironhack Airlines routinely sells 460 tickets, what is the chance that they have a seats for all passenger?"
   ]
  },
  {
   "cell_type": "code",
   "execution_count": 16,
   "metadata": {},
   "outputs": [
    {
     "name": "stdout",
     "output_type": "stream",
     "text": [
      "The probability that there are enough seats for all passengers is 0.8845\n"
     ]
    }
   ],
   "source": [
    "#code here\n",
    "from scipy.stats import binom\n",
    "\n",
    "# Parameters\n",
    "n_tickets = 460  # Number of tickets sold\n",
    "n_seats = 450    # Number of seats available\n",
    "p_miss = 0.03    # Probability of a passenger missing the flight\n",
    "\n",
    "# Probability of having 450 or fewer passengers showing up\n",
    "prob_seats_available = binom.cdf(n_seats, n_tickets, 1 - p_miss)\n",
    "print(f\"The probability that there are enough seats for all passengers is {prob_seats_available:.4f}\")"
   ]
  },
  {
   "cell_type": "markdown",
   "metadata": {},
   "source": [
    "**Challenge 2**"
   ]
  },
  {
   "cell_type": "markdown",
   "metadata": {},
   "source": [
    "#### Ironhack Call Center "
   ]
  },
  {
   "cell_type": "markdown",
   "metadata": {},
   "source": [
    "Suppose a customer service representative at a call center is handling customer complaints. Consider the following:\n",
    "- The probability of successfully resolving a customer complaint on the first attempt is 0.3. \n",
    "\n",
    "\n",
    "What is the probability that the representative needs to make at least three attempts before successfully resolving a customer complaint?"
   ]
  },
  {
   "cell_type": "code",
   "execution_count": 17,
   "metadata": {},
   "outputs": [
    {
     "name": "stdout",
     "output_type": "stream",
     "text": [
      "The probability that the representative needs at least three attempts is 0.4900\n"
     ]
    }
   ],
   "source": [
    "#code here\n",
    "# Probability of success on a single attempt\n",
    "p_success = 0.3\n",
    "\n",
    "# Probability of needing at least three attempts\n",
    "p_at_least_three_attempts = (1 - p_success) ** 2\n",
    "print(f\"The probability that the representative needs at least three attempts is {p_at_least_three_attempts:.4f}\")"
   ]
  },
  {
   "cell_type": "markdown",
   "metadata": {},
   "source": [
    "**Challenge 3**"
   ]
  },
  {
   "cell_type": "markdown",
   "metadata": {},
   "source": [
    "#### Ironhack Website"
   ]
  },
  {
   "cell_type": "markdown",
   "metadata": {},
   "source": [
    "Consider a scenario related to Ironhack website traffic. Where:\n",
    "- our website takes on average 500 visits per hour.\n",
    "- the website's server is designed to handle up to 550 vists per hour.\n",
    "\n",
    "\n",
    "What is the probability of the website server being overwhelmed?"
   ]
  },
  {
   "cell_type": "code",
   "execution_count": 18,
   "metadata": {},
   "outputs": [
    {
     "name": "stdout",
     "output_type": "stream",
     "text": [
      "The probability of the website server being overwhelmed is 0.0129\n"
     ]
    }
   ],
   "source": [
    "#code here\n",
    "from scipy.stats import poisson\n",
    "\n",
    "# Parameters\n",
    "lambda_visits = 500  # Average visits per hour\n",
    "server_capacity = 550  # Maximum visits the server can handle\n",
    "\n",
    "# Probability of the server being overwhelmed\n",
    "prob_server_overwhelmed = 1 - poisson.cdf(server_capacity, lambda_visits)\n",
    "print(f\"The probability of the website server being overwhelmed is {prob_server_overwhelmed:.4f}\")"
   ]
  },
  {
   "cell_type": "markdown",
   "metadata": {},
   "source": [
    "What is the probability of being overwhelmed at some point during a day? (consider 24hours)"
   ]
  },
  {
   "cell_type": "code",
   "execution_count": 19,
   "metadata": {},
   "outputs": [
    {
     "name": "stdout",
     "output_type": "stream",
     "text": [
      "The probability of being overwhelmed at some point during a day is 0.2677\n"
     ]
    }
   ],
   "source": [
    "#code here\n",
    "# Probability of not being overwhelmed in a single hour\n",
    "prob_not_overwhelmed_hour = 1 - prob_server_overwhelmed\n",
    "\n",
    "# Probability of not being overwhelmed for 24 hours\n",
    "prob_not_overwhelmed_day = prob_not_overwhelmed_hour ** 24\n",
    "\n",
    "# Probability of being overwhelmed at some point during the day\n",
    "prob_overwhelmed_day = 1 - prob_not_overwhelmed_day\n",
    "print(f\"The probability of being overwhelmed at some point during a day is {prob_overwhelmed_day:.4f}\")"
   ]
  },
  {
   "cell_type": "markdown",
   "metadata": {},
   "source": [
    "**Challenge 4**"
   ]
  },
  {
   "cell_type": "markdown",
   "metadata": {},
   "source": [
    "#### Ironhack Helpdesk"
   ]
  },
  {
   "cell_type": "markdown",
   "metadata": {},
   "source": [
    "Consider a scenario related to the time between arrivals of customers at a service desk.\n",
    "\n",
    "On average, a customers arrives every 10minutes.\n",
    "\n",
    "What is the probability that the next customer will arrive within the next 5 minutes?"
   ]
  },
  {
   "cell_type": "code",
   "execution_count": 20,
   "metadata": {},
   "outputs": [
    {
     "name": "stdout",
     "output_type": "stream",
     "text": [
      "The probability that the next customer will arrive within the next 5 minutes is 0.3935\n"
     ]
    }
   ],
   "source": [
    "from scipy.stats import expon\n",
    "\n",
    "# Parameters\n",
    "mean_time_between_arrivals = 10  # in minutes\n",
    "rate = 1 / mean_time_between_arrivals  # rate parameter (lambda)\n",
    "\n",
    "# Probability that the next customer will arrive within the next 5 minutes\n",
    "time_limit = 5  # in minutes\n",
    "prob_next_customer_within_5 = expon.cdf(time_limit, scale=1/rate)\n",
    "print(f\"The probability that the next customer will arrive within the next 5 minutes is {prob_next_customer_within_5:.4f}\")"
   ]
  },
  {
   "cell_type": "markdown",
   "metadata": {},
   "source": [
    "If there is no customer for 15minutes, employees can that a 5minutes break.\n",
    "\n",
    "What is the probability an employee taking a break?"
   ]
  },
  {
   "cell_type": "code",
   "execution_count": 21,
   "metadata": {},
   "outputs": [
    {
     "name": "stdout",
     "output_type": "stream",
     "text": [
      "The probability an employee takes a break is 0.2231\n"
     ]
    }
   ],
   "source": [
    "# Probability that no customer arrives for 15 minutes\n",
    "time_no_customer = 15  # in minutes\n",
    "prob_no_customer_15 = expon.cdf(time_no_customer, scale=1/rate)\n",
    "\n",
    "# Probability of an employee taking a break\n",
    "prob_employee_break = 1 - prob_no_customer_15\n",
    "print(f\"The probability an employee takes a break is {prob_employee_break:.4f}\")"
   ]
  },
  {
   "cell_type": "markdown",
   "metadata": {},
   "source": [
    "**Challenge 5**"
   ]
  },
  {
   "cell_type": "markdown",
   "metadata": {},
   "source": [
    "The weights of a certain species of birds follow a normal distribution with a mean weight of 150 grams and a standard deviation of 10 grams. \n",
    "\n",
    "- If we randomly select a bird, what is the probability that its weight is between 140 and 160 grams?"
   ]
  },
  {
   "cell_type": "code",
   "execution_count": 22,
   "metadata": {},
   "outputs": [
    {
     "name": "stdout",
     "output_type": "stream",
     "text": [
      "The probability that a bird's weight is between 140 and 160 grams is 0.6827\n"
     ]
    }
   ],
   "source": [
    "#code here\n",
    "\n",
    "# Parameters\n",
    "mean_weight = 150  # Mean weight in grams\n",
    "std_dev_weight = 10  # Standard deviation in grams\n",
    "\n",
    "# Calculate the probability\n",
    "prob_between_140_and_160 = norm.cdf(160, loc=mean_weight, scale=std_dev_weight) - norm.cdf(140, loc=mean_weight, scale=std_dev_weight)\n",
    "print(f\"The probability that a bird's weight is between 140 and 160 grams is {prob_between_140_and_160:.4f}\")"
   ]
  },
  {
   "cell_type": "markdown",
   "metadata": {},
   "source": [
    "**Challenge 6**"
   ]
  },
  {
   "cell_type": "markdown",
   "metadata": {},
   "source": [
    "If the lifetime (in hours) of a certain electronic component follows an exponential distribution with a mean lifetime of 50 hours, what is the probability that the component fails within the first 30 hours?"
   ]
  },
  {
   "cell_type": "code",
   "execution_count": 23,
   "metadata": {},
   "outputs": [
    {
     "name": "stdout",
     "output_type": "stream",
     "text": [
      "The probability that the component fails within the first 30 hours is 0.4512\n"
     ]
    }
   ],
   "source": [
    "#code here\n",
    "# Parameters\n",
    "mean_lifetime = 50  # Mean lifetime in hours\n",
    "rate_lifetime = 1 / mean_lifetime  # Rate parameter (lambda) for exponential distribution\n",
    "time_failure = 30  # Time in hours\n",
    "\n",
    "# Probability of failure within the first 30 hours\n",
    "prob_failure_within_30 = expon.cdf(time_failure, scale=1/rate_lifetime)\n",
    "print(f\"The probability that the component fails within the first 30 hours is {prob_failure_within_30:.4f}\")"
   ]
  }
 ],
 "metadata": {
  "kernelspec": {
   "display_name": "Python 3",
   "language": "python",
   "name": "python3"
  },
  "language_info": {
   "codemirror_mode": {
    "name": "ipython",
    "version": 3
   },
   "file_extension": ".py",
   "mimetype": "text/x-python",
   "name": "python",
   "nbconvert_exporter": "python",
   "pygments_lexer": "ipython3",
   "version": "3.13.1"
  }
 },
 "nbformat": 4,
 "nbformat_minor": 2
}
